{
 "cells": [
  {
   "cell_type": "markdown",
   "id": "d2004892",
   "metadata": {},
   "source": [
    "# Task M2 T01 Mustafa Habibi"
   ]
  },
  {
   "cell_type": "markdown",
   "id": "7d3f2445",
   "metadata": {},
   "source": [
    "## Exercise 1\n",
    "Create a list that groups the months of the year into quarters (1Q: January, February and March; 2Q: April, May, June...), that is, a list with 4 lists inside."
   ]
  },
  {
   "cell_type": "code",
   "execution_count": 10,
   "id": "f477c364",
   "metadata": {},
   "outputs": [
    {
     "name": "stdout",
     "output_type": "stream",
     "text": [
      "{'Q1': ['January', 'February', 'March'], 'Q2': ['April', 'May', 'June'], 'Q3': ['July', 'August', 'September'], 'Q4': ['October', 'November', 'December']}\n"
     ]
    }
   ],
   "source": [
    "Quarters = {'Q1':['January', 'February', 'March'],\n",
    "'Q2':['April', 'May', 'June'],\n",
    "'Q3':['July', 'August', 'September'],\n",
    "'Q4':['October', 'November', 'December']}\n",
    "\n",
    "print(Quarters)"
   ]
  },
  {
   "cell_type": "markdown",
   "id": "54035766",
   "metadata": {},
   "source": [
    "## Exercise 2\n",
    "Create a code that gives you access to:\n",
    "\n",
    "- The second month of the first trimester.\n",
    "- The months of the first quarter.\n",
    "- September and October."
   ]
  },
  {
   "cell_type": "code",
   "execution_count": 13,
   "id": "f651a85a",
   "metadata": {},
   "outputs": [
    {
     "name": "stdout",
     "output_type": "stream",
     "text": [
      "February\n"
     ]
    }
   ],
   "source": [
    "print (Q1[1])"
   ]
  },
  {
   "cell_type": "code",
   "execution_count": 14,
   "id": "9a47e3d9",
   "metadata": {},
   "outputs": [
    {
     "name": "stdout",
     "output_type": "stream",
     "text": [
      "['January', 'February', 'March']\n"
     ]
    }
   ],
   "source": [
    "print (Q1)"
   ]
  },
  {
   "cell_type": "code",
   "execution_count": 17,
   "id": "198713e1",
   "metadata": {},
   "outputs": [
    {
     "name": "stdout",
     "output_type": "stream",
     "text": [
      "September October\n"
     ]
    }
   ],
   "source": [
    "print (Q3[2], Q4[0])"
   ]
  },
  {
   "cell_type": "markdown",
   "id": "e01ae679",
   "metadata": {},
   "source": [
    "## Exercise 3\n",
    "- Create a list with unordered numbers and answer the following questions:\n",
    "\n",
    "- How many numbers are there?\n",
    "- How many times does the number 3 appear.\n",
    "- How many times do the numbers 3 and 4 appear?\n",
    "- What is the biggest number?\n",
    "- What are the 3 smallest numbers?\n",
    "- What is the rank of this list?"
   ]
  },
  {
   "cell_type": "markdown",
   "id": "92017bb1",
   "metadata": {},
   "source": [
    "##### How many numbers are there?"
   ]
  },
  {
   "cell_type": "code",
   "execution_count": 14,
   "id": "b26e4ada",
   "metadata": {},
   "outputs": [
    {
     "name": "stdout",
     "output_type": "stream",
     "text": [
      "[39, 18, 13, 38, 28, 37, 25, 45, 36, 48, 10, 4, 46, 33, 21, 9, 24, 19, 31, 43, 35, 1, 22, 15, 7, 49, 30, 34, 32, 12, 8, 40, 17, 23, 47]\n",
      "There are 35 numbers.\n",
      "0 time numbere 3 appears\n",
      "number 3 apears 0 time and number 4 apears 1 times.\n",
      "The biggest number is 49 .\n",
      "The three smalest numbere are\n"
     ]
    }
   ],
   "source": [
    "import random\n",
    "\n",
    "list_num = random.sample(range(1,50), 35)\n",
    "print(list_num)\n",
    "print ('There are', len(list_num), 'numbers.')\n",
    "print (list_num.count(3), 'time numbere 3 appears')\n",
    "print ('number 3 apears', list_num.count(3),'time', 'and number 4 apears', list_num.count(4), 'times.')\n",
    "print ('The biggest number is', max(list_num),'.')\n",
    "print ('The three smalest numbere are',  )"
   ]
  },
  {
   "cell_type": "markdown",
   "id": "8da2da6e",
   "metadata": {},
   "source": [
    "##### What are the 3 smallest numbers?"
   ]
  },
  {
   "cell_type": "code",
   "execution_count": 17,
   "id": "f9bab86e",
   "metadata": {},
   "outputs": [
    {
     "name": "stdout",
     "output_type": "stream",
     "text": [
      "The three smallest numbers are [1, 4, 7]\n"
     ]
    }
   ],
   "source": [
    "sorted_list_num= sorted(list_num)\n",
    "smallest_three= sorted_list_num[:3]\n",
    "\n",
    "print('The three smallest numbers are', smallest_three)"
   ]
  },
  {
   "cell_type": "markdown",
   "id": "f3653402",
   "metadata": {},
   "source": [
    "##### What is the rank of this list?"
   ]
  },
  {
   "cell_type": "code",
   "execution_count": 19,
   "id": "e45aacb0",
   "metadata": {},
   "outputs": [
    {
     "name": "stdout",
     "output_type": "stream",
     "text": [
      "The rank of this list is 8\n"
     ]
    }
   ],
   "source": [
    "for num in list_num:\n",
    "    maximum = list_num[0]\n",
    "    minimum = list_num[0]\n",
    "    if num < minimum:\n",
    "        minimum = num\n",
    "    if num > maximum:\n",
    "        maximum = num\n",
    "\n",
    "rank = maximum - minimum\n",
    "        \n",
    "print('The rank of this list is',rank)"
   ]
  },
  {
   "cell_type": "markdown",
   "id": "f06fcc22",
   "metadata": {},
   "source": [
    "## Exercise 4\n",
    "Create a dictionary in the following form and answer the questions:\n",
    "\n",
    "compra = { \"Pomes\" : {\"Qty\": 5, \"€\": 0.42}, \"Peres\" : {\"Qty\": 3, \"€\": 0.66} }\n",
    "- Add some more fruit\n",
    "- How much did the pears cost in total?\n",
    "- How many fruits did we buy in total?\n",
    "- What is the most expensive fruit?"
   ]
  },
  {
   "cell_type": "code",
   "execution_count": 57,
   "id": "78fd97a0",
   "metadata": {},
   "outputs": [
    {
     "name": "stdout",
     "output_type": "stream",
     "text": [
      "{'Apples': {'Qty': 5, '€': 0.42}, 'Pears': {'Qty': 3, '€': 0.66}}\n"
     ]
    }
   ],
   "source": [
    "compra = { \"Apples\" : {\"Qty\": 5, \"€\": 0.42}, \"Pears\" : {\"Qty\": 3, \"€\": 0.66} }\n",
    "print (compra)"
   ]
  },
  {
   "cell_type": "code",
   "execution_count": 98,
   "id": "dca75fd2",
   "metadata": {},
   "outputs": [
    {
     "name": "stdout",
     "output_type": "stream",
     "text": [
      "I added \"apple\" in the list of fruits {'Apples': {'Qty': 5, '€': 0.42}, 'Pears': {'Qty': 3, '€': 0.66}, 'Oranges': {'Qty': 6, '€': 0.55}, 'Banana': {'Qty': 2, '€': 0.32}}\n"
     ]
    }
   ],
   "source": [
    "compra.update({'Oranges': {'Qty': 6, '€': 0.55}, 'Banana': {'Qty': 2, '€': 0.32}})\n",
    "print('I added \"apple\" in the list of fruits', compra)"
   ]
  },
  {
   "cell_type": "code",
   "execution_count": 102,
   "id": "4d1ebb27",
   "metadata": {},
   "outputs": [
    {
     "name": "stdout",
     "output_type": "stream",
     "text": [
      "The total cost of pears is 1.98 €\n"
     ]
    }
   ],
   "source": [
    "Total_cost_pears= compra['Pears']['Qty']* compra['Pears']['€']\n",
    "print ('The total cost of pears is', Total_cost_pears, '€')"
   ]
  },
  {
   "cell_type": "code",
   "execution_count": 103,
   "id": "e31e161e",
   "metadata": {},
   "outputs": [
    {
     "name": "stdout",
     "output_type": "stream",
     "text": [
      "16 fruits we bought in total.\n"
     ]
    }
   ],
   "source": [
    "total_Qty=0\n",
    "for fruit, data in compra.items():\n",
    "    total_Qty+= data['Qty']\n",
    "print(total_Qty, 'fruits we bought in total.')"
   ]
  },
  {
   "cell_type": "code",
   "execution_count": 111,
   "id": "90c361a5",
   "metadata": {},
   "outputs": [
    {
     "name": "stdout",
     "output_type": "stream",
     "text": [
      "The most expensive fruit is Pears at 0.66 €\n"
     ]
    }
   ],
   "source": [
    "most_expensive_fruit = 'None'\n",
    "highest_price = 0\n",
    "\n",
    "for fruit, price in compra.items():\n",
    "    price = price['€']\n",
    "    if price > highest_price:\n",
    "        most_expensive_fruit = fruit\n",
    "        highest_price = price\n",
    "        \n",
    "print('The most expensive fruit is', most_expensive_fruit, 'at', highest_price, '€')"
   ]
  },
  {
   "cell_type": "code",
   "execution_count": null,
   "id": "598731e0",
   "metadata": {},
   "outputs": [],
   "source": []
  }
 ],
 "metadata": {
  "kernelspec": {
   "display_name": "Python 3 (ipykernel)",
   "language": "python",
   "name": "python3"
  },
  "language_info": {
   "codemirror_mode": {
    "name": "ipython",
    "version": 3
   },
   "file_extension": ".py",
   "mimetype": "text/x-python",
   "name": "python",
   "nbconvert_exporter": "python",
   "pygments_lexer": "ipython3",
   "version": "3.9.13"
  }
 },
 "nbformat": 4,
 "nbformat_minor": 5
}
