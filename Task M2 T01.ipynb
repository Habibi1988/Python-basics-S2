{
 "cells": [
  {
   "cell_type": "markdown",
   "id": "d2004892",
   "metadata": {},
   "source": [
    "# Task M2 T01 Mustafa Habibi"
   ]
  },
  {
   "cell_type": "markdown",
   "id": "7d3f2445",
   "metadata": {},
   "source": [
    "## Exercise 1\n",
    "Create a list that groups the months of the year into quarters (1Q: January, February and March; 2Q: April, May, June...), that is, a list with 4 lists inside."
   ]
  },
  {
   "cell_type": "code",
   "execution_count": 10,
   "id": "f477c364",
   "metadata": {},
   "outputs": [
    {
     "name": "stdout",
     "output_type": "stream",
     "text": [
      "{'Q1': ['January', 'February', 'March'], 'Q2': ['April', 'May', 'June'], 'Q3': ['July', 'August', 'September'], 'Q4': ['October', 'November', 'December']}\n"
     ]
    }
   ],
   "source": [
    "Quarters = {'Q1':['January', 'February', 'March'],\n",
    "'Q2':['April', 'May', 'June'],\n",
    "'Q3':['July', 'August', 'September'],\n",
    "'Q4':['October', 'November', 'December']}\n",
    "\n",
    "print(Quarters)"
   ]
  },
  {
   "cell_type": "markdown",
   "id": "54035766",
   "metadata": {},
   "source": [
    "## Exercise 2\n",
    "Create a code that gives you access to:\n",
    "\n",
    "- The second month of the first trimester.\n",
    "- The months of the first quarter.\n",
    "- September and October."
   ]
  },
  {
   "cell_type": "code",
   "execution_count": 13,
   "id": "f651a85a",
   "metadata": {},
   "outputs": [
    {
     "name": "stdout",
     "output_type": "stream",
     "text": [
      "February\n"
     ]
    }
   ],
   "source": [
    "print (Q1[1])"
   ]
  },
  {
   "cell_type": "code",
   "execution_count": 14,
   "id": "9a47e3d9",
   "metadata": {},
   "outputs": [
    {
     "name": "stdout",
     "output_type": "stream",
     "text": [
      "['January', 'February', 'March']\n"
     ]
    }
   ],
   "source": [
    "print (Q1)"
   ]
  },
  {
   "cell_type": "code",
   "execution_count": 17,
   "id": "198713e1",
   "metadata": {},
   "outputs": [
    {
     "name": "stdout",
     "output_type": "stream",
     "text": [
      "September October\n"
     ]
    }
   ],
   "source": [
    "print (Q3[2], Q4[0])"
   ]
  },
  {
   "cell_type": "markdown",
   "id": "e01ae679",
   "metadata": {},
   "source": [
    "## Exercise 3\n",
    "- Create a list with unordered numbers and answer the following questions:\n",
    "\n",
    "- How many numbers are there?\n",
    "- How many times does the number 3 appear.\n",
    "- How many times do the numbers 3 and 4 appear?\n",
    "- What is the biggest number?\n",
    "- What are the 3 smallest numbers?\n",
    "- What is the rank of this list?"
   ]
  },
  {
   "cell_type": "markdown",
   "id": "92017bb1",
   "metadata": {},
   "source": [
    "##### How many numbers are there?"
   ]
  },
  {
   "cell_type": "code",
   "execution_count": 5,
   "id": "b26e4ada",
   "metadata": {},
   "outputs": [
    {
     "name": "stdout",
     "output_type": "stream",
     "text": [
      "[3, 48, 20, 41, 17, 23, 16, 25, 28, 13, 6, 38, 30, 33, 36, 49, 29, 24, 31, 2, 14, 19, 34, 10, 5, 21, 4, 8, 46, 22, 47, 7, 44, 26, 32]\n"
     ]
    }
   ],
   "source": [
    "import random\n",
    "\n",
    "list_num = random.sample(range(1,50), 35)\n",
    "print(list_num)"
   ]
  },
  {
   "cell_type": "markdown",
   "id": "5daa5059",
   "metadata": {},
   "source": [
    "###### How many numbers are there?"
   ]
  },
  {
   "cell_type": "code",
   "execution_count": 3,
   "id": "7f0b79a9",
   "metadata": {},
   "outputs": [
    {
     "name": "stdout",
     "output_type": "stream",
     "text": [
      "35\n"
     ]
    }
   ],
   "source": [
    "print (len(list_num))"
   ]
  },
  {
   "cell_type": "markdown",
   "id": "b4652352",
   "metadata": {},
   "source": [
    "###### How many times does the number 3 appear."
   ]
  },
  {
   "cell_type": "code",
   "execution_count": 7,
   "id": "25f51460",
   "metadata": {},
   "outputs": [
    {
     "name": "stdout",
     "output_type": "stream",
     "text": [
      "1\n"
     ]
    }
   ],
   "source": [
    "print(list_num.count(3))"
   ]
  },
  {
   "cell_type": "markdown",
   "id": "59a065e2",
   "metadata": {},
   "source": [
    "##### How many times do the numbers 3 and 4 appear?"
   ]
  },
  {
   "cell_type": "code",
   "execution_count": 9,
   "id": "45d0c31c",
   "metadata": {},
   "outputs": [
    {
     "name": "stdout",
     "output_type": "stream",
     "text": [
      "1 4\n"
     ]
    }
   ],
   "source": [
    "print (list_num.count(3), (4))"
   ]
  },
  {
   "cell_type": "markdown",
   "id": "961c28fd",
   "metadata": {},
   "source": [
    "##### What is the biggest number?"
   ]
  },
  {
   "cell_type": "code",
   "execution_count": 12,
   "id": "a504a992",
   "metadata": {},
   "outputs": [
    {
     "name": "stdout",
     "output_type": "stream",
     "text": [
      "49\n"
     ]
    }
   ],
   "source": [
    "num_max=max(list_num)\n",
    "print(num_max)"
   ]
  },
  {
   "cell_type": "markdown",
   "id": "8da2da6e",
   "metadata": {},
   "source": [
    "##### What are the 3 smallest numbers?"
   ]
  },
  {
   "cell_type": "code",
   "execution_count": 13,
   "id": "f9bab86e",
   "metadata": {},
   "outputs": [
    {
     "name": "stdout",
     "output_type": "stream",
     "text": [
      "2\n"
     ]
    }
   ],
   "source": [
    "num_min=min(list_num)\n",
    "print(num_min)"
   ]
  },
  {
   "cell_type": "markdown",
   "id": "f3653402",
   "metadata": {},
   "source": [
    "##### What is the rank of this list?"
   ]
  },
  {
   "cell_type": "code",
   "execution_count": 19,
   "id": "e45aacb0",
   "metadata": {},
   "outputs": [
    {
     "name": "stdout",
     "output_type": "stream",
     "text": [
      "29\n"
     ]
    }
   ],
   "source": [
    "for num in list_num:\n",
    "    maximum = list_num[0]\n",
    "    minimum = list_num[0]\n",
    "    if num < minimum:\n",
    "        minimum = num\n",
    "    if num > maximum:\n",
    "        maximum = num\n",
    "\n",
    "rank = maximum - minimum\n",
    "        \n",
    "print(rank)"
   ]
  },
  {
   "cell_type": "code",
   "execution_count": null,
   "id": "bc12dc46",
   "metadata": {},
   "outputs": [],
   "source": []
  }
 ],
 "metadata": {
  "kernelspec": {
   "display_name": "Python 3 (ipykernel)",
   "language": "python",
   "name": "python3"
  },
  "language_info": {
   "codemirror_mode": {
    "name": "ipython",
    "version": 3
   },
   "file_extension": ".py",
   "mimetype": "text/x-python",
   "name": "python",
   "nbconvert_exporter": "python",
   "pygments_lexer": "ipython3",
   "version": "3.9.13"
  }
 },
 "nbformat": 4,
 "nbformat_minor": 5
}
